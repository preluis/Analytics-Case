{
 "cells": [
  {
   "cell_type": "markdown",
   "id": "959ace56-9375-485e-8a21-1c08ee6a5230",
   "metadata": {},
   "source": [
    "# Creating monthly balance in Python from our SQL script"
   ]
  },
  {
   "cell_type": "markdown",
   "id": "2716921c-dc05-43b3-95ff-fcf94ee267bf",
   "metadata": {},
   "source": [
    "## Setup"
   ]
  },
  {
   "cell_type": "markdown",
   "id": "f881646a-ad5e-45bf-ae66-45985b12be84",
   "metadata": {},
   "source": [
    "It is needed to import neccesary libraries, `sqlite3` will help taking the SQL script to python and `pandas` will be use for a best look and fell in the data preview"
   ]
  },
  {
   "cell_type": "code",
   "execution_count": 1,
   "id": "3e8fe277-e7f7-4951-a808-0438b9fea8e2",
   "metadata": {},
   "outputs": [],
   "source": [
    "import sqlite3\n",
    "import pandas as pd"
   ]
  },
  {
   "cell_type": "markdown",
   "id": "66680db0-78bf-4bd2-94af-a81be3bc1da1",
   "metadata": {},
   "source": [
    "Just to get a reference for the current directory, can help adjusting the `path` in next steps"
   ]
  },
  {
   "cell_type": "code",
   "execution_count": 2,
   "id": "8d8d9bd6-b87c-40a2-b0c1-3625e21c0fe8",
   "metadata": {},
   "outputs": [
    {
     "data": {
      "text/plain": [
       "'C:\\\\Users\\\\Home\\\\Documents\\\\GitHub\\\\Analytics-Case\\\\scripts'"
      ]
     },
     "execution_count": 2,
     "metadata": {},
     "output_type": "execute_result"
    }
   ],
   "source": [
    "import os\n",
    "os.getcwd()"
   ]
  },
  {
   "cell_type": "markdown",
   "id": "303e1201-043f-4594-868c-6c096f64e77a",
   "metadata": {},
   "source": [
    "Stablishing connection with the database and creating the cursor. It will be neccesary to adjust the path, according to user's database allocation.  "
   ]
  },
  {
   "cell_type": "code",
   "execution_count": 3,
   "id": "32cd9085-84da-4ec6-a812-a5de6ccce5ef",
   "metadata": {},
   "outputs": [],
   "source": [
    "path = 'C:\\\\Users\\\\Home\\\\Documents\\\\GitHub\\\\Analytics-Case\\\\data\\\\database\\\\db'\n",
    "sqliteConnection = sqlite3.connect(path)\n",
    "cursor =  sqliteConnection.cursor()"
   ]
  },
  {
   "cell_type": "markdown",
   "id": "922de033-a0d7-43c2-a1d8-8b8190178da1",
   "metadata": {},
   "source": [
    "Double-checking connection, it should gives the provided tables: [('country',), ('state',), ('city',), ('customers',), ('accounts',), ('transfer_ins',), ('transfer_outs',), ('pix_movements',), ('d_year',), ('d_week',), ('d_weekday',), ('d_month',), ('d_time',), ('Balance',)]"
   ]
  },
  {
   "cell_type": "code",
   "execution_count": 4,
   "id": "5f608001-babb-42cf-950e-a507726510e1",
   "metadata": {},
   "outputs": [
    {
     "name": "stdout",
     "output_type": "stream",
     "text": [
      "[('country',), ('state',), ('city',), ('customers',), ('accounts',), ('transfer_ins',), ('transfer_outs',), ('pix_movements',), ('d_year',), ('d_week',), ('d_weekday',), ('d_month',), ('d_time',), ('Balance',)]\n"
     ]
    }
   ],
   "source": [
    "cursor.execute(\"SELECT name FROM sqlite_master WHERE type='table';\")\n",
    "print(cursor.fetchall())"
   ]
  },
  {
   "cell_type": "markdown",
   "id": "6bf72544-5c8a-4604-843b-88c94b48811e",
   "metadata": {},
   "source": [
    "## Running queries "
   ]
  },
  {
   "cell_type": "markdown",
   "id": "bad1c869-02f9-488a-85b2-4d899480c04d",
   "metadata": {},
   "source": [
    "Using SQL queries to generate the expected results"
   ]
  },
  {
   "cell_type": "code",
   "execution_count": 5,
   "id": "2e3fa635-5358-4ac9-9bff-9c888a856db0",
   "metadata": {},
   "outputs": [
    {
     "data": {
      "text/html": [
       "<div>\n",
       "<style scoped>\n",
       "    .dataframe tbody tr th:only-of-type {\n",
       "        vertical-align: middle;\n",
       "    }\n",
       "\n",
       "    .dataframe tbody tr th {\n",
       "        vertical-align: top;\n",
       "    }\n",
       "\n",
       "    .dataframe thead th {\n",
       "        text-align: right;\n",
       "    }\n",
       "</style>\n",
       "<table border=\"1\" class=\"dataframe\">\n",
       "  <thead>\n",
       "    <tr style=\"text-align: right;\">\n",
       "      <th></th>\n",
       "      <th>month</th>\n",
       "      <th>customer_id</th>\n",
       "      <th>first_name</th>\n",
       "      <th>last_name</th>\n",
       "      <th>Total Transfer In</th>\n",
       "      <th>Total Transfer out</th>\n",
       "      <th>Account Monthly Balance</th>\n",
       "    </tr>\n",
       "  </thead>\n",
       "  <tbody>\n",
       "    <tr>\n",
       "      <th>0</th>\n",
       "      <td>1</td>\n",
       "      <td>463741281156103</td>\n",
       "      <td>Mark</td>\n",
       "      <td>Sawyer</td>\n",
       "      <td>3095.85</td>\n",
       "      <td>224.12</td>\n",
       "      <td>2871.73</td>\n",
       "    </tr>\n",
       "    <tr>\n",
       "      <th>1</th>\n",
       "      <td>1</td>\n",
       "      <td>1320946992314442</td>\n",
       "      <td>Margareta</td>\n",
       "      <td>Haupt</td>\n",
       "      <td>8516.01</td>\n",
       "      <td>5204.96</td>\n",
       "      <td>3311.05</td>\n",
       "    </tr>\n",
       "    <tr>\n",
       "      <th>2</th>\n",
       "      <td>1</td>\n",
       "      <td>1671564189319424</td>\n",
       "      <td>Catherine</td>\n",
       "      <td>Laman</td>\n",
       "      <td>3618.70</td>\n",
       "      <td>3587.88</td>\n",
       "      <td>30.82</td>\n",
       "    </tr>\n",
       "    <tr>\n",
       "      <th>3</th>\n",
       "      <td>1</td>\n",
       "      <td>2358908589613037</td>\n",
       "      <td>Linda</td>\n",
       "      <td>Eargle</td>\n",
       "      <td>11198.11</td>\n",
       "      <td>5440.35</td>\n",
       "      <td>5757.76</td>\n",
       "    </tr>\n",
       "    <tr>\n",
       "      <th>4</th>\n",
       "      <td>1</td>\n",
       "      <td>4055589654669036</td>\n",
       "      <td>Jackie</td>\n",
       "      <td>Kahele</td>\n",
       "      <td>6636.44</td>\n",
       "      <td>4342.56</td>\n",
       "      <td>2293.88</td>\n",
       "    </tr>\n",
       "    <tr>\n",
       "      <th>...</th>\n",
       "      <td>...</td>\n",
       "      <td>...</td>\n",
       "      <td>...</td>\n",
       "      <td>...</td>\n",
       "      <td>...</td>\n",
       "      <td>...</td>\n",
       "      <td>...</td>\n",
       "    </tr>\n",
       "    <tr>\n",
       "      <th>45552</th>\n",
       "      <td>12</td>\n",
       "      <td>3399368655915363840</td>\n",
       "      <td>Caroline</td>\n",
       "      <td>Ciprian</td>\n",
       "      <td>195.89</td>\n",
       "      <td>1962.91</td>\n",
       "      <td>18798.83</td>\n",
       "    </tr>\n",
       "    <tr>\n",
       "      <th>45553</th>\n",
       "      <td>12</td>\n",
       "      <td>3399413968938289152</td>\n",
       "      <td>Virginia</td>\n",
       "      <td>Blake</td>\n",
       "      <td>4097.53</td>\n",
       "      <td>3901.42</td>\n",
       "      <td>7758.26</td>\n",
       "    </tr>\n",
       "    <tr>\n",
       "      <th>45554</th>\n",
       "      <td>12</td>\n",
       "      <td>3400407496661060096</td>\n",
       "      <td>Bessie</td>\n",
       "      <td>Brown</td>\n",
       "      <td>4086.24</td>\n",
       "      <td>4299.85</td>\n",
       "      <td>22079.03</td>\n",
       "    </tr>\n",
       "    <tr>\n",
       "      <th>45555</th>\n",
       "      <td>12</td>\n",
       "      <td>3401963777864371200</td>\n",
       "      <td>Nicole</td>\n",
       "      <td>Hughes</td>\n",
       "      <td>4206.36</td>\n",
       "      <td>8455.94</td>\n",
       "      <td>-19524.25</td>\n",
       "    </tr>\n",
       "    <tr>\n",
       "      <th>45556</th>\n",
       "      <td>12</td>\n",
       "      <td>3402266400260993024</td>\n",
       "      <td>Tammy</td>\n",
       "      <td>Tran</td>\n",
       "      <td>2553.00</td>\n",
       "      <td>2604.65</td>\n",
       "      <td>5201.06</td>\n",
       "    </tr>\n",
       "  </tbody>\n",
       "</table>\n",
       "<p>45557 rows × 7 columns</p>\n",
       "</div>"
      ],
      "text/plain": [
       "       month          customer_id first_name last_name  Total Transfer In  \\\n",
       "0          1      463741281156103       Mark    Sawyer            3095.85   \n",
       "1          1     1320946992314442  Margareta     Haupt            8516.01   \n",
       "2          1     1671564189319424  Catherine     Laman            3618.70   \n",
       "3          1     2358908589613037      Linda    Eargle           11198.11   \n",
       "4          1     4055589654669036     Jackie    Kahele            6636.44   \n",
       "...      ...                  ...        ...       ...                ...   \n",
       "45552     12  3399368655915363840   Caroline   Ciprian             195.89   \n",
       "45553     12  3399413968938289152   Virginia     Blake            4097.53   \n",
       "45554     12  3400407496661060096     Bessie     Brown            4086.24   \n",
       "45555     12  3401963777864371200     Nicole    Hughes            4206.36   \n",
       "45556     12  3402266400260993024      Tammy      Tran            2553.00   \n",
       "\n",
       "       Total Transfer out  Account Monthly Balance  \n",
       "0                  224.12                  2871.73  \n",
       "1                 5204.96                  3311.05  \n",
       "2                 3587.88                    30.82  \n",
       "3                 5440.35                  5757.76  \n",
       "4                 4342.56                  2293.88  \n",
       "...                   ...                      ...  \n",
       "45552             1962.91                 18798.83  \n",
       "45553             3901.42                  7758.26  \n",
       "45554             4299.85                 22079.03  \n",
       "45555             8455.94                -19524.25  \n",
       "45556             2604.65                  5201.06  \n",
       "\n",
       "[45557 rows x 7 columns]"
      ]
     },
     "execution_count": 5,
     "metadata": {},
     "output_type": "execute_result"
    }
   ],
   "source": [
    "query_drop = 'DROP TABLE IF EXISTS Balance;'\n",
    "\n",
    "query_balance = '''\n",
    "  CREATE TABLE Balance (\n",
    "  month INT,\n",
    "  customer_id UUID,\n",
    "  first_name VARCHAR(128),\n",
    "  last_name VARCHAR(128),\n",
    "  transfer_in FLOAT,\n",
    "  transfer_out FLOAT\n",
    ");\n",
    "        '''\n",
    "query_ti = '''\n",
    "INSERT INTO Balance (month, customer_id, first_name, last_name, transfer_in, transfer_out)\n",
    "SELECT dm.action_month, a.customer_id, c.first_name, c.last_name, ti.amount, 0 \n",
    "FROM transfer_ins ti\n",
    "JOIN accounts a ON ti.account_id = a.account_id\n",
    "JOIN customers c ON a.customer_id = c.customer_id\n",
    "JOIN d_time dt ON ti.transaction_completed_at = dt.time_id\n",
    "JOIN d_month dm on dt.month_id = dm.month_id\n",
    "JOIN d_year dy on dt.year_id = dy.year_id\n",
    "WHERE ti.status = 'completed' and dy.action_year='2020';\n",
    "'''\n",
    "\n",
    "query_to = '''\n",
    "INSERT INTO Balance (month, customer_id, first_name, last_name, transfer_in, transfer_out)\n",
    "SELECT dm.action_month, a.customer_id, c.first_name, c.last_name, 0 , tou.amount\n",
    "FROM transfer_outs tou\n",
    "JOIN accounts a ON tou.account_id = a.account_id\n",
    "JOIN customers c ON a.customer_id = c.customer_id\n",
    "JOIN d_time dt ON tou.transaction_completed_at = dt.time_id\n",
    "JOIN d_month dm on dt.month_id = dm.month_id\n",
    "JOIN d_year dy on dt.year_id = dy.year_id\n",
    "WHERE tou.status = 'completed' and dy.action_year='2020';\n",
    "'''\n",
    "\n",
    "query_pix = '''\n",
    "INSERT INTO Balance (month, customer_id, first_name, last_name, transfer_in, transfer_out)\n",
    "SELECT dm.action_month, a.customer_id, c.first_name, c.last_name, CASE WHEN in_or_out like '%in%' THEN pix_amount ELSE 0 END, CASE WHEN in_or_out like '%out%' THEN pix_amount ELSE 0 END \n",
    "FROM pix_movements pix\n",
    "JOIN accounts a ON pix.account_id = a.account_id\n",
    "JOIN customers c ON a.customer_id = c.customer_id\n",
    "JOIN d_time dt ON pix.pix_completed_at = dt.time_id\n",
    "JOIN d_month dm on dt.month_id = dm.month_id\n",
    "JOIN d_year dy on dt.year_id = dy.year_id\n",
    "WHERE pix.status = 'completed' and dy.action_year='2020';\n",
    "'''\n",
    "\n",
    "query_final = '''\n",
    "SELECT month, customer_id, first_name, last_name, SUM(transfer_in) as 'Total Transfer In', SUM(transfer_out) as 'Total Transfer out', SUM(SUM(transfer_in)-SUM(transfer_out)) OVER (PARTITION BY customer_id ORDER BY month) AS 'Account Monthly Balance' \n",
    "FROM Balance\n",
    "GROUP BY customer_id, month\n",
    "ORDER BY month;\n",
    "'''\n",
    "\n",
    "cursor.execute(query_drop)\n",
    "cursor.execute(query_balance)\n",
    "cursor.execute(query_ti)\n",
    "cursor.execute(query_to)\n",
    "cursor.execute(query_pix)\n",
    "pd.read_sql_query(query_final, sqliteConnection)\n"
   ]
  },
  {
   "cell_type": "markdown",
   "id": "b2bcca0a-8633-4d70-baba-7e4119c70536",
   "metadata": {},
   "source": [
    "## Closing cursor and connection "
   ]
  },
  {
   "cell_type": "code",
   "execution_count": 6,
   "id": "20ec0e45-c2b9-4b5d-a95c-ed794633ecc4",
   "metadata": {},
   "outputs": [],
   "source": [
    "cursor.close()\n",
    "sqliteConnection.close()"
   ]
  },
  {
   "cell_type": "code",
   "execution_count": null,
   "id": "b8b93557-1ed0-48f4-a46b-6e4c49e2d539",
   "metadata": {},
   "outputs": [],
   "source": []
  }
 ],
 "metadata": {
  "kernelspec": {
   "display_name": "Python 3 (ipykernel)",
   "language": "python",
   "name": "python3"
  },
  "language_info": {
   "codemirror_mode": {
    "name": "ipython",
    "version": 3
   },
   "file_extension": ".py",
   "mimetype": "text/x-python",
   "name": "python",
   "nbconvert_exporter": "python",
   "pygments_lexer": "ipython3",
   "version": "3.10.9"
  }
 },
 "nbformat": 4,
 "nbformat_minor": 5
}
